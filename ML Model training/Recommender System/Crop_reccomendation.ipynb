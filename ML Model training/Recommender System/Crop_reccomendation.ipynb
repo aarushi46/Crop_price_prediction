{
  "nbformat": 4,
  "nbformat_minor": 0,
  "metadata": {
    "colab": {
      "provenance": []
    },
    "kernelspec": {
      "name": "python3",
      "display_name": "Python 3"
    },
    "language_info": {
      "name": "python"
    }
  },
  "cells": [
    {
      "cell_type": "code",
      "execution_count": 1,
      "metadata": {
        "id": "Ghz1Ytg4oBEg"
      },
      "outputs": [],
      "source": [
        "import pandas as pd\n",
        "from sklearn.model_selection import train_test_split\n",
        "from sklearn.preprocessing import LabelEncoder\n",
        "\n",
        "df = pd.read_csv('Crop_recommendation.csv')\n",
        "\n",
        "X = df.drop(columns=['label'])\n",
        "y = df['label']\n",
        "\n",
        "label_encoder = LabelEncoder()\n",
        "y_encoded = label_encoder.fit_transform(y)\n",
        "X_train, X_test, y_train, y_test = train_test_split(X, y_encoded, test_size=0.2, random_state=42)\n"
      ]
    },
    {
      "cell_type": "code",
      "source": [
        "label_mapping = {index: label for index, label in enumerate(label_encoder.classes_)}\n",
        "\n",
        "print(label_mapping)"
      ],
      "metadata": {
        "colab": {
          "base_uri": "https://localhost:8080/"
        },
        "id": "_AeEUx7TEFQd",
        "outputId": "f77d85a9-5801-40ec-8c1a-9bf36d394cba"
      },
      "execution_count": 2,
      "outputs": [
        {
          "output_type": "stream",
          "name": "stdout",
          "text": [
            "{0: 'apple', 1: 'banana', 2: 'blackgram', 3: 'chickpea', 4: 'coconut', 5: 'coffee', 6: 'cotton', 7: 'grapes', 8: 'jute', 9: 'kidneybeans', 10: 'lentil', 11: 'maize', 12: 'mango', 13: 'mothbeans', 14: 'mungbean', 15: 'muskmelon', 16: 'orange', 17: 'papaya', 18: 'pigeonpeas', 19: 'pomegranate', 20: 'rice', 21: 'watermelon'}\n"
          ]
        }
      ]
    },
    {
      "cell_type": "code",
      "source": [
        "import tensorflow as tf\n",
        "from tensorflow.keras.models import Sequential\n",
        "from tensorflow.keras.layers import Dense, Dropout\n",
        "\n",
        "model = Sequential([\n",
        "    Dense(128, input_dim=7, activation='relu'),\n",
        "    Dropout(0.2),\n",
        "    Dense(64, activation='relu'),\n",
        "    Dropout(0.2),\n",
        "    Dense(32, activation='relu'),\n",
        "    Dense(len(label_encoder.classes_), activation='softmax')\n",
        "])\n",
        "\n",
        "\n",
        "model.compile(optimizer='adam',\n",
        "              loss='sparse_categorical_crossentropy',\n",
        "              metrics=['accuracy'])\n",
        "\n",
        "model.summary()\n"
      ],
      "metadata": {
        "id": "0Wje2jBJCcj0",
        "colab": {
          "base_uri": "https://localhost:8080/"
        },
        "outputId": "8358bf5c-0c3f-4134-87d0-479ee231ebde"
      },
      "execution_count": 3,
      "outputs": [
        {
          "output_type": "stream",
          "name": "stdout",
          "text": [
            "Model: \"sequential\"\n",
            "_________________________________________________________________\n",
            " Layer (type)                Output Shape              Param #   \n",
            "=================================================================\n",
            " dense (Dense)               (None, 128)               1024      \n",
            "                                                                 \n",
            " dropout (Dropout)           (None, 128)               0         \n",
            "                                                                 \n",
            " dense_1 (Dense)             (None, 64)                8256      \n",
            "                                                                 \n",
            " dropout_1 (Dropout)         (None, 64)                0         \n",
            "                                                                 \n",
            " dense_2 (Dense)             (None, 32)                2080      \n",
            "                                                                 \n",
            " dense_3 (Dense)             (None, 22)                726       \n",
            "                                                                 \n",
            "=================================================================\n",
            "Total params: 12086 (47.21 KB)\n",
            "Trainable params: 12086 (47.21 KB)\n",
            "Non-trainable params: 0 (0.00 Byte)\n",
            "_________________________________________________________________\n"
          ]
        }
      ]
    },
    {
      "cell_type": "code",
      "source": [
        "\n",
        "history = model.fit(X_train, y_train, epochs=50, batch_size=32, validation_split=0.2)\n"
      ],
      "metadata": {
        "id": "SsoZb8pCCeZT",
        "colab": {
          "base_uri": "https://localhost:8080/"
        },
        "outputId": "a1d25822-5bdb-4e29-dba1-e7c5b0337c63"
      },
      "execution_count": 4,
      "outputs": [
        {
          "output_type": "stream",
          "name": "stdout",
          "text": [
            "Epoch 1/50\n",
            "44/44 [==============================] - 2s 11ms/step - loss: 10.0070 - accuracy: 0.0767 - val_loss: 2.6032 - val_accuracy: 0.2216\n",
            "Epoch 2/50\n",
            "44/44 [==============================] - 0s 7ms/step - loss: 3.5858 - accuracy: 0.1264 - val_loss: 2.3458 - val_accuracy: 0.2699\n",
            "Epoch 3/50\n",
            "44/44 [==============================] - 0s 4ms/step - loss: 2.8427 - accuracy: 0.1989 - val_loss: 2.0974 - val_accuracy: 0.4375\n",
            "Epoch 4/50\n",
            "44/44 [==============================] - 0s 4ms/step - loss: 2.5073 - accuracy: 0.2521 - val_loss: 1.7610 - val_accuracy: 0.5170\n",
            "Epoch 5/50\n",
            "44/44 [==============================] - 0s 7ms/step - loss: 2.1208 - accuracy: 0.3274 - val_loss: 1.4352 - val_accuracy: 0.6136\n",
            "Epoch 6/50\n",
            "44/44 [==============================] - 0s 6ms/step - loss: 1.8190 - accuracy: 0.4162 - val_loss: 1.2317 - val_accuracy: 0.6420\n",
            "Epoch 7/50\n",
            "44/44 [==============================] - 0s 6ms/step - loss: 1.6546 - accuracy: 0.4432 - val_loss: 1.0429 - val_accuracy: 0.6790\n",
            "Epoch 8/50\n",
            "44/44 [==============================] - 0s 6ms/step - loss: 1.4753 - accuracy: 0.4744 - val_loss: 0.9075 - val_accuracy: 0.7244\n",
            "Epoch 9/50\n",
            "44/44 [==============================] - 0s 7ms/step - loss: 1.2693 - accuracy: 0.5384 - val_loss: 0.7756 - val_accuracy: 0.7415\n",
            "Epoch 10/50\n",
            "44/44 [==============================] - 0s 5ms/step - loss: 1.2090 - accuracy: 0.5405 - val_loss: 0.6998 - val_accuracy: 0.8068\n",
            "Epoch 11/50\n",
            "44/44 [==============================] - 0s 5ms/step - loss: 1.0670 - accuracy: 0.5767 - val_loss: 0.5799 - val_accuracy: 0.8551\n",
            "Epoch 12/50\n",
            "44/44 [==============================] - 0s 5ms/step - loss: 1.0526 - accuracy: 0.5866 - val_loss: 0.5425 - val_accuracy: 0.8466\n",
            "Epoch 13/50\n",
            "44/44 [==============================] - 0s 6ms/step - loss: 0.9145 - accuracy: 0.6612 - val_loss: 0.4871 - val_accuracy: 0.8636\n",
            "Epoch 14/50\n",
            "44/44 [==============================] - 0s 5ms/step - loss: 0.8601 - accuracy: 0.6903 - val_loss: 0.4459 - val_accuracy: 0.8636\n",
            "Epoch 15/50\n",
            "44/44 [==============================] - 0s 6ms/step - loss: 0.7795 - accuracy: 0.6989 - val_loss: 0.4004 - val_accuracy: 0.9006\n",
            "Epoch 16/50\n",
            "44/44 [==============================] - 0s 5ms/step - loss: 0.7524 - accuracy: 0.7017 - val_loss: 0.3853 - val_accuracy: 0.9062\n",
            "Epoch 17/50\n",
            "44/44 [==============================] - 0s 5ms/step - loss: 0.7307 - accuracy: 0.7173 - val_loss: 0.3265 - val_accuracy: 0.9006\n",
            "Epoch 18/50\n",
            "44/44 [==============================] - 0s 6ms/step - loss: 0.6607 - accuracy: 0.7514 - val_loss: 0.2983 - val_accuracy: 0.9148\n",
            "Epoch 19/50\n",
            "44/44 [==============================] - 0s 5ms/step - loss: 0.6116 - accuracy: 0.7706 - val_loss: 0.2932 - val_accuracy: 0.9148\n",
            "Epoch 20/50\n",
            "44/44 [==============================] - 0s 3ms/step - loss: 0.6157 - accuracy: 0.7514 - val_loss: 0.2742 - val_accuracy: 0.9148\n",
            "Epoch 21/50\n",
            "44/44 [==============================] - 0s 3ms/step - loss: 0.5944 - accuracy: 0.7685 - val_loss: 0.2636 - val_accuracy: 0.9176\n",
            "Epoch 22/50\n",
            "44/44 [==============================] - 0s 3ms/step - loss: 0.5324 - accuracy: 0.8125 - val_loss: 0.2235 - val_accuracy: 0.9261\n",
            "Epoch 23/50\n",
            "44/44 [==============================] - 0s 3ms/step - loss: 0.5286 - accuracy: 0.7919 - val_loss: 0.2028 - val_accuracy: 0.9347\n",
            "Epoch 24/50\n",
            "44/44 [==============================] - 0s 5ms/step - loss: 0.4784 - accuracy: 0.8132 - val_loss: 0.2070 - val_accuracy: 0.9233\n",
            "Epoch 25/50\n",
            "44/44 [==============================] - 0s 3ms/step - loss: 0.4739 - accuracy: 0.8210 - val_loss: 0.2070 - val_accuracy: 0.9233\n",
            "Epoch 26/50\n",
            "44/44 [==============================] - 0s 3ms/step - loss: 0.4687 - accuracy: 0.8232 - val_loss: 0.1962 - val_accuracy: 0.9205\n",
            "Epoch 27/50\n",
            "44/44 [==============================] - 0s 3ms/step - loss: 0.4263 - accuracy: 0.8473 - val_loss: 0.1710 - val_accuracy: 0.9432\n",
            "Epoch 28/50\n",
            "44/44 [==============================] - 0s 3ms/step - loss: 0.4095 - accuracy: 0.8516 - val_loss: 0.1664 - val_accuracy: 0.9545\n",
            "Epoch 29/50\n",
            "44/44 [==============================] - 0s 3ms/step - loss: 0.3853 - accuracy: 0.8565 - val_loss: 0.1640 - val_accuracy: 0.9460\n",
            "Epoch 30/50\n",
            "44/44 [==============================] - 0s 3ms/step - loss: 0.4040 - accuracy: 0.8430 - val_loss: 0.1739 - val_accuracy: 0.9489\n",
            "Epoch 31/50\n",
            "44/44 [==============================] - 0s 3ms/step - loss: 0.3760 - accuracy: 0.8537 - val_loss: 0.1599 - val_accuracy: 0.9460\n",
            "Epoch 32/50\n",
            "44/44 [==============================] - 0s 3ms/step - loss: 0.3739 - accuracy: 0.8580 - val_loss: 0.1517 - val_accuracy: 0.9489\n",
            "Epoch 33/50\n",
            "44/44 [==============================] - 0s 3ms/step - loss: 0.3755 - accuracy: 0.8544 - val_loss: 0.1568 - val_accuracy: 0.9489\n",
            "Epoch 34/50\n",
            "44/44 [==============================] - 0s 3ms/step - loss: 0.3335 - accuracy: 0.8665 - val_loss: 0.1427 - val_accuracy: 0.9489\n",
            "Epoch 35/50\n",
            "44/44 [==============================] - 0s 3ms/step - loss: 0.3303 - accuracy: 0.8736 - val_loss: 0.1340 - val_accuracy: 0.9489\n",
            "Epoch 36/50\n",
            "44/44 [==============================] - 0s 3ms/step - loss: 0.3184 - accuracy: 0.8750 - val_loss: 0.1373 - val_accuracy: 0.9545\n",
            "Epoch 37/50\n",
            "44/44 [==============================] - 0s 3ms/step - loss: 0.3194 - accuracy: 0.8778 - val_loss: 0.1250 - val_accuracy: 0.9545\n",
            "Epoch 38/50\n",
            "44/44 [==============================] - 0s 3ms/step - loss: 0.3052 - accuracy: 0.8857 - val_loss: 0.1468 - val_accuracy: 0.9290\n",
            "Epoch 39/50\n",
            "44/44 [==============================] - 0s 3ms/step - loss: 0.3167 - accuracy: 0.8714 - val_loss: 0.1230 - val_accuracy: 0.9631\n",
            "Epoch 40/50\n",
            "44/44 [==============================] - 0s 3ms/step - loss: 0.3029 - accuracy: 0.8885 - val_loss: 0.1243 - val_accuracy: 0.9659\n",
            "Epoch 41/50\n",
            "44/44 [==============================] - 0s 3ms/step - loss: 0.3018 - accuracy: 0.8842 - val_loss: 0.1285 - val_accuracy: 0.9602\n",
            "Epoch 42/50\n",
            "44/44 [==============================] - 0s 3ms/step - loss: 0.3143 - accuracy: 0.8757 - val_loss: 0.1291 - val_accuracy: 0.9545\n",
            "Epoch 43/50\n",
            "44/44 [==============================] - 0s 3ms/step - loss: 0.2689 - accuracy: 0.9027 - val_loss: 0.1177 - val_accuracy: 0.9602\n",
            "Epoch 44/50\n",
            "44/44 [==============================] - 0s 3ms/step - loss: 0.2702 - accuracy: 0.8949 - val_loss: 0.1044 - val_accuracy: 0.9659\n",
            "Epoch 45/50\n",
            "44/44 [==============================] - 0s 3ms/step - loss: 0.2819 - accuracy: 0.8892 - val_loss: 0.1086 - val_accuracy: 0.9773\n",
            "Epoch 46/50\n",
            "44/44 [==============================] - 0s 3ms/step - loss: 0.2419 - accuracy: 0.9119 - val_loss: 0.1111 - val_accuracy: 0.9716\n",
            "Epoch 47/50\n",
            "44/44 [==============================] - 0s 3ms/step - loss: 0.2774 - accuracy: 0.8892 - val_loss: 0.1168 - val_accuracy: 0.9631\n",
            "Epoch 48/50\n",
            "44/44 [==============================] - 0s 3ms/step - loss: 0.2396 - accuracy: 0.9084 - val_loss: 0.0953 - val_accuracy: 0.9744\n",
            "Epoch 49/50\n",
            "44/44 [==============================] - 0s 3ms/step - loss: 0.2578 - accuracy: 0.9148 - val_loss: 0.1416 - val_accuracy: 0.9375\n",
            "Epoch 50/50\n",
            "44/44 [==============================] - 0s 3ms/step - loss: 0.2387 - accuracy: 0.9169 - val_loss: 0.1187 - val_accuracy: 0.9659\n"
          ]
        }
      ]
    },
    {
      "cell_type": "code",
      "source": [
        "\n",
        "loss, accuracy = model.evaluate(X_test, y_test)\n",
        "print(f'Test Accuracy: {accuracy * 100:.2f}%')\n"
      ],
      "metadata": {
        "id": "ut5-99NvChk5",
        "colab": {
          "base_uri": "https://localhost:8080/"
        },
        "outputId": "fbc6867f-42a2-4a04-ae71-ae308524f851"
      },
      "execution_count": 5,
      "outputs": [
        {
          "output_type": "stream",
          "name": "stdout",
          "text": [
            "14/14 [==============================] - 0s 2ms/step - loss: 0.1763 - accuracy: 0.9409\n",
            "Test Accuracy: 94.09%\n"
          ]
        }
      ]
    },
    {
      "cell_type": "code",
      "source": [
        "model.save('crop_recommender.h5')"
      ],
      "metadata": {
        "colab": {
          "base_uri": "https://localhost:8080/"
        },
        "id": "KPLix5Q8Ehpl",
        "outputId": "b53662ad-9d5b-45b3-b4f4-151baff83b14"
      },
      "execution_count": 6,
      "outputs": [
        {
          "output_type": "stream",
          "name": "stderr",
          "text": [
            "/usr/local/lib/python3.10/dist-packages/keras/src/engine/training.py:3103: UserWarning: You are saving your model as an HDF5 file via `model.save()`. This file format is considered legacy. We recommend using instead the native Keras format, e.g. `model.save('my_model.keras')`.\n",
            "  saving_api.save_model(\n"
          ]
        }
      ]
    }
  ]
}